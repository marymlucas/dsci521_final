{
 "cells": [
  {
   "cell_type": "markdown",
   "id": "5e3a3016",
   "metadata": {
    "id": "0c027386"
   },
   "source": [
    "# DSCI 521: Data Analysis and Interpretation\n",
    "\n",
    "# Term Project"
   ]
  },
  {
   "cell_type": "markdown",
   "id": "a3702e8d",
   "metadata": {
    "id": "0d155175"
   },
   "source": [
    "## Team Members\n",
    "\n",
    "- Team member 1\n",
    "    - Name: Andrew Appleton\n",
    "    - Email: aa4498@drexel.edu    \n",
    "    - Background and skills: 10 years experience in Health Sciences, Limited Python experience\n",
    "- Team member 2\n",
    "    - Name:  Layla Bouzoubaa\n",
    "    - Email: lb3338@drexel.edu\n",
    "    - Background and skills: MS in Public Health with a concentration in Biostatistics. Advanced R user, novel Pythonista, strong familiarity with public health data science pipeline and research.\n",
    "- Team member 3\n",
    "    - Name:  Alicia Brandemarte\n",
    "    - Email: amb847@drexel.edu\n",
    "    - Background and skills: Healthcare Informatics, R, SQL, Business Intelligence.  Limited Python skills, seeking to expand Python Skills.\n",
    "- Team member 4\n",
    "    - Name: Stephan Dupoux\n",
    "    - Email: sgd45@drexel.edu    \n",
    "    - Background and skills: 5 years of building machine learning , 5 years of Python programming such as building ETL pipelines and other web based applications. \n",
    "- Team member 5\n",
    "    - Name: Mary Lucas\n",
    "    - Email: mml367@drexel.edu\n",
    "    - Background and skills: Extensive healthcare clinical experience, some experience in SQL, Python, and R programming and machine learning. \n",
    "- Team member 6\n",
    "    - Name: Shane Nelson\n",
    "    - Email: sn888@drexel.edu\n",
    "    - Background and skills: 2 years experience working at a clinical research organization. Somewhat limited Python experience however continuously seeking to improve skills.\n"
   ]
  },
  {
   "cell_type": "markdown",
   "id": "97de6761",
   "metadata": {
    "id": "c5302f75"
   },
   "source": [
    "# Introduction\n",
    "\n",
    "The COVID-19 pandemic is an ongoing global crisis that has had a major impact on individuals and communities over the past two years.  It has resulted in significant disruptions to our way of life and the services and resources we depend on on a day to day basis.  \n",
    "\n",
    "The pandemic and its effects in terms of loss to life and livelihood have also made it more evident that there are disparities in access to care and resources across the globe based on geography, race, and other factors.\n",
    "  \n",
    "All code can be found on our [Github repository](https://github.com/labouz/covid_vulnerability/)  The data is available for download from the links in the Data Sources section."
   ]
  },
  {
   "cell_type": "markdown",
   "id": "7a12089c",
   "metadata": {
    "id": "60643b74"
   },
   "source": [
    "### Motivating Questions to Address\n",
    "The main questions that we hoped to address in this work were: \n",
    "\n",
    "  * the impact COVID-19 has had on hospital capacity in different regions of the country over time\n",
    "  * the community burden of the COVID-19 pandemic\n",
    "  * health disparities in the COVID-19 impact across different regions of the country\n",
    "\n"
   ]
  },
  {
   "cell_type": "markdown",
   "id": "87424d33",
   "metadata": {
    "id": "4c527ccf"
   },
   "source": [
    "### Design of the Study\n",
    "\n",
    "This study is a descriptive and analytic design of time series data to understand and predict hospitalization burden due to the COVID19 pandemic in different states.  We implemented time series forecasting methods and modelling of hospital burden across the country due to the COVID-19 pandemic. \n",
    "\n",
    "Data used was accessed from open data repositories of the federal government at healthdata.gov and data.gov, and census.gov, as well as supplemental sources such as the Kaiser Family Foundation. Analysis was conducted using standard time series focusing and regression and classification methods.\n",
    "\n",
    "No costs were incurred and no human subjects were involved in the study."
   ]
  },
  {
   "cell_type": "markdown",
   "id": "fa9af4e6",
   "metadata": {
    "id": "259d762c"
   },
   "source": [
    "## Data\n",
    "\n",
    "The main data we used was obtained from The US Department of Health and Human Services (HHS) as healthdata.gov and is publically available. The datasets are all non-identifiable and contain no protected health information. \n",
    "\n",
    "- [COVID-19 Reported Patient Impact and Hospital Capacity by State Timeseries](https://healthdata.gov/Hospital/COVID-19-Reported-Patient-Impact-and-Hospital-Capa/g62h-syeh)\n",
    "- [COVID-19 Community Vulnerability Crosswalk - Rank Ordered by Score](https://catalog.data.gov/dataset/covid-19-community-vulnerability-crosswalk-rank-ordered-by-score)\n",
    "\n",
    "Supplementary data on population metrics, socioeconomic status, and hospital counts in different states was obtained from other sources and will be referenced in the relevant sections of this report.\n",
    "\n",
    "\n",
    "### Structure\n",
    "The hospital impact and capacity timeseries data used is provided in various formats including CSV, TSV, GEOJSON, XML, and more.  It is updated on a daily basis and can be downloaded via the Socrata API or by direct export from the healthdata.gov link provided. \n",
    "\n",
    "As of the last download of the final dataset for this project the file contained 39,701 rows and 117 columns with each row representing a daily state aggregated report. Because of API limitations we opted to download a CSV file of the data for our work."
   ]
  },
  {
   "cell_type": "markdown",
   "id": "fb419258",
   "metadata": {
    "id": "E8tRXFPxNyc2"
   },
   "source": [
    "## Preamble \n",
    "\n",
    "To make the individual files more manageable we have divided our across two notebooks. This current notebook contains the written report and embedded images of visualizations generated from our analysis and modelling.  \n",
    "\n",
    "The code that is needed to reproduce our work is contained in a separate notebook project_code.ipynb.  \n"
   ]
  },
  {
   "cell_type": "code",
   "execution_count": 7,
   "id": "5cb4dc91",
   "metadata": {
    "id": "QS39O3cuNrN_"
   },
   "outputs": [],
   "source": [
    "# code to allow for visualizations\n",
    "import warnings\n",
    "warnings.filterwarnings('ignore')\n",
    "import IPython\n",
    "from IPython.display import Image"
   ]
  },
  {
   "cell_type": "markdown",
   "id": "1c377eeb",
   "metadata": {
    "id": "fIK8BCtxaW9A"
   },
   "source": [
    "#### Exploratory Data Analysis\n"
   ]
  },
  {
   "cell_type": "markdown",
   "id": "dd8700b0",
   "metadata": {
    "id": "OhrB6hmdNPsW"
   },
   "source": [
    "\n"
   ]
  },
  {
   "cell_type": "markdown",
   "id": "2035a8ff",
   "metadata": {
    "id": "Ip88o6YNNPp3"
   },
   "source": []
  },
  {
   "cell_type": "code",
   "execution_count": null,
   "id": "216d0a2c",
   "metadata": {
    "id": "lZnKlepiNNA5"
   },
   "outputs": [],
   "source": []
  },
  {
   "cell_type": "code",
   "execution_count": 5,
   "id": "afa56695",
   "metadata": {
    "colab": {
     "base_uri": "https://localhost:8080/",
     "height": 645
    },
    "executionInfo": {
     "elapsed": 167,
     "status": "ok",
     "timestamp": 1647126888740,
     "user": {
      "displayName": "Mary Lucas",
      "photoUrl": "https://lh3.googleusercontent.com/a-/AOh14Ggz3vWlbw_VmfR9jm5fPx_deBaL4fvazB0DdNgURQ=s64",
      "userId": "01579912861992077688"
     },
     "user_tz": 300
    },
    "id": "_KawphFJaY6X",
    "outputId": "f1a8df17-8a48-4735-9d4f-5c9e313bc2c1"
   },
   "outputs": [
    {
     "data": {
      "text/html": [
       "<iframe src=https://marymlucas.github.io/adult-icu_utilization/ width=100% height=600></iframe>"
      ],
      "text/plain": [
       "<IPython.core.display.HTML object>"
      ]
     },
     "execution_count": 5,
     "metadata": {},
     "output_type": "execute_result"
    }
   ],
   "source": [
    "url = 'https://marymlucas.github.io/adult-icu_utilization/'\n",
    "iframe = '<iframe src=' + url + ' width=100% height=600></iframe>'\n",
    "IPython.display.HTML(iframe)"
   ]
  },
  {
   "cell_type": "markdown",
   "id": "3566f8ec",
   "metadata": {
    "id": "4ef30748"
   },
   "source": [
    "### Methods\n",
    "\n",
    "\n",
    "### Data Preprocessing\n",
    "We undertook various steps to prepare our data. These are outlined below.\n",
    "\n",
    "#### Feature Selection\n",
    "After an initial data exploration phase, we selected 35 variables out of the 117 to retain for our analysis. This selection was made based on examination of variable collinearity and domain knowledge. We noticed that many of the highly correlated variables were also derived from each other. For example there were features defined as \"numerator\" and \"denominator\" which were not relevant to our analysis. Our goal was to analyze impact of hospital capacity and state-wide burden, therefore many features examining covid diagnosis (suspected and confirmed) were dropped because they were not critical to our analysis. In addition, many features were focused on pediatric measures that were not applicable to our analysis, considering our ultimate target variable for icu bed utilization. \n",
    "\n",
    "#### Determining Under-Reporting\n",
    "To make our analysis meaningful, we decided to remove states that had high levels of underreporting.  For each metric in each row (day of data reported in the state), there is a corresponding \"coverage\" variable (denoted as *metric_coverage*). This coverage feature reports how many hospitals in the state submitted information about that metric on the day. For example, in the case of our main feaure of interest (adult_icu_bed_utilization), the *adult_icu_bed_utilization_coverage* feature gives an indication of how many hospitals in the state reported their adult icu bed utilization that day. \n",
    "\n",
    "By comparing the coverage with the number of hospitals in each state we were able to derive a simple measure of the level of reporting for each state.\n",
    "\n",
    "The most current list of hospital numbers was obtained from the Kaiser Family Foundation website (https://www.kff.org/other/state-indicator/total-hospitals) which reports data from the American Hospital Association (1999 - 2019) Annual Survey. \n",
    "\n",
    "It's important to note the disclaimer that \"Data are for community hospitals, which represent 85% of all hospitals\" where community hospitals are defined as \"all nonfederal, short-term general, and specialty hospitals whose facilities and services are available to the public.\"  Because of this, we expected that for states with high reporting we may have instances of greater than 100% reporting, which we decided was acceptable for our analysis.\n",
    "\n",
    "In selecting a threshold, we considered the guidelines by the HHS for hospitals on how to report their numbers - https://www.hhs.gov/sites/default/files/covid-19-faqs-hospitals-hospital-laboratory-acute-care-facility-data-reporting.pdf. While this is a recent update, we noted that the changes from previous requirements did not affect the requirement to report or the frequency of reporting, only what fields are reported (https://healthdata.gov/stories/s/COVID-19-Reporting-and-FAQS/kjst-g9cm/). Based on this and on exploration of the data, we came up with a definition of under-reporting as \"greater than 25% of the hospitals not reporting acute_icu_bed_utilization.\"  After running our code, we the states of Rhode Island and New York, as they had the largest number of days of underreporting over the two year perion in our analysis.  In addition, after plotting a boxplot of total days reported per state, we noted that the US territories of Virgin Islands and American Samoa were outliers and had very low reporting days, so we dropped the territories from our analysis. \n",
    "\n",
    "#### Calculating Burden\n",
    "We then calculated a burden metric for each state on each day.  To calculate burden, we used the criteria set by The US Department of Health and Human Services.  According to French et.al., (2021), “HHS has studied the relationship between hospital bed use and hospital strain and has identified occupancy >80% as an indicator of a strained condition. This analysis uses a continuous measure of ICU bed occupancy as a proxy for hospital strain, such that greater amounts of ICU bed use indicate larger amounts of hospital strain.” \n",
    "\n",
    "We determined from our survey of the relevant literature that 80% threshold is a good, validated metric for hospital strain that we could use as an indicator for our analysis.\n",
    "\n",
    "The burden metric is binary 1/0 value that is 1 if the adult icu bed utilization is greater than 0.8, and less otherwise. "
   ]
  },
  {
   "cell_type": "markdown",
   "id": "7055f4b8",
   "metadata": {},
   "source": [
    "### Analysis and Modelling\n",
    "\n",
    "\n",
    "### Time Series Analysis - Simple Moving Average\n",
    ".....\n",
    "\n",
    "### Regression and Classification for Predicting Burden\n",
    "-----\n",
    "\n",
    "### Time Series Forecasting for Predicting Trends in Utilization\n",
    "The goal here was to use standard forecasting methods to predict trends in ICU bed utilization during the pandemic. We chose to focus on Pennsylvania as this is our state of residence and where Drexel University is located. \n",
    "\n",
    "The data for PA was extracted and split into train and test subsets based on date, with the first 18 months (March 1, 2020 -  Sep 1, 2021) used as the training set and the last 6 months (Sep 1, 2021 - March 1, 2022) as the test set.  We then ran 3 different forecasting models on the data.  For simplicity, no adjustments, e.g. for stationarity, were made on either the training or the testing data.\n",
    "\n",
    "The three models tested are described below:\n",
    "- Autoregressive Moving Average (ARMA) \n",
    "    - doesn’t capture seasonal trends. \n",
    "    - assumes that the time series data is stationary, meaning that its statistical properties wouldn’t change over time. \n",
    "- Autoregressive Integrated Moving Average (ARIMA)\n",
    "    - doesn’t assume stationarity \n",
    "    - assumes the data exhibits little to no seasonality\n",
    "- Seasonal ARIMA (SARIMA)\n",
    "    - is a variant of ARIMA \n",
    "    - can work with non-stationary data \n",
    "    - can capture some seasonality\n",
    "\n",
    "The performance of each model was evaluated by calculating the root mean square error, and we also visualized the predicted trends compared to the actual trends.\n"
   ]
  },
  {
   "cell_type": "markdown",
   "id": "1ea1fbbd",
   "metadata": {
    "id": "f211c026"
   },
   "source": [
    "## Results\n"
   ]
  },
  {
   "cell_type": "markdown",
   "id": "f4c961dc",
   "metadata": {},
   "source": [
    "### Time Series Analysis - Simple Moving Average\n",
    "\n",
    "...\n"
   ]
  },
  {
   "cell_type": "markdown",
   "id": "ae9b9a4e",
   "metadata": {},
   "source": [
    "### Regression and Classification Modeling\n",
    "\n",
    "..."
   ]
  },
  {
   "cell_type": "markdown",
   "id": "f9f6590b",
   "metadata": {
    "id": "s12tbUtGVBny"
   },
   "source": [
    "### Time Series Forecasting - ARMA, ARIMA, SARIMA"
   ]
  },
  {
   "cell_type": "markdown",
   "id": "c01b803f",
   "metadata": {},
   "source": [
    "![Train/Test](images/TS-train-test.png)\n",
    "\n",
    "\n",
    "![ARMA](images/ARMA_PA.png)\n",
    "\n",
    "\n",
    "![ARIMA](images/ARIMA_PA.png)\n",
    "\n",
    "\n",
    "![SARIMA](images/SARIMA_PA.png)\n",
    "\n"
   ]
  },
  {
   "cell_type": "markdown",
   "id": "1227e487",
   "metadata": {},
   "source": [
    "### Disparity Analysis\n",
    "\n",
    "For the disparity analysis, we were limited in what measures of disparity we could meaningfully use given the varying granularity of our different datasets. For example, most income and race data is reported at a county level (for example by the Census bureau). But our utilization timeseries data is on a state level. Because the counties in each state have different socioeconomic levels, it's difficult to aggregate these measures and analyse disparity at a state level in a meaningful and actionable way. \n",
    "\n",
    "We were able to include the social deprivation index for each state in our data and this variable was used in the regression and classification modelling that has been described and proved to have a predictive effect on the hospital burden.  \n",
    "\n",
    "We decided that one way to compare states as a way to assess disparity was to create visualizations that showed the population density, social deprivation index, COVID vulnerability measure (based on data that was last updated 11/2021), and the multidimensional deprivation index.  \n",
    "\n",
    "\n",
    "![Multidimensional Deprivation Index](images/mdi.png)\n",
    "\n",
    "\n",
    "\n",
    "![COVID Vulnerability](images/covid_vulnerability.png)\n",
    "\n",
    "\n",
    "\n",
    "![Social Deprivation Index](images/sdi.png)\n",
    "\n",
    "\n",
    "\n",
    "![Population Density](images/popn_density.png)\n",
    "\n"
   ]
  },
  {
   "cell_type": "markdown",
   "id": "6465df2b",
   "metadata": {
    "id": "f5967a58"
   },
   "source": [
    "## Reflections on Strengths and Limitations\n",
    "\n",
    "### Strengths:\n",
    "\n",
    "**THIS SECTION NEEDS REFINING**\n",
    "\n",
    "Loads of freely available data means this study can be extended and expanded on\n",
    "The analysis is timely and of great relevance to various stakeholders bla bla bla\n",
    "The ability to create tools such as online dashboards that can be visualized and intepreted at a quick glance is great because it can be understood by laymen as well as policy makers bla bla bla.\n",
    "\n",
    "### Limitations:\n",
    "\n",
    "**THIS SECTION NEEDS UPDATING**\n",
    "\n",
    "We had initially intended to explore our data primarily through the lens of health disparities, but we made the decision to defer this aspect for future work.  The reason behind this decision were threefold:\n",
    "\n",
    "\n",
    "1. The data available to assess COVID vulnerability as determined by the US Department of Human and Health Services was not updated and there was no data dictionary or robust description of how the assessment of vulnerability was done. We reached out to the data curators but did not receive a response.\n",
    "\n",
    "2. Disparities are difficult to measure without a clear way/measure to rank the different groups. Because the datasets we chose to use for time series forecasting only provide information at the state level, it was too broad for us to map socioeconomic data onto. In future, it would be interesting to analyse timeseries information at the County level and then use Census data to, for example,  map socioeconomic indicatirs for the different counties. This would allow a more useful calculation and analysis of health disparities between groups.\n",
    "\n",
    "3. There were time limitations that did not allow us enough latitude to explore the COVID vulnerability data and to continue reaching out to the data curators for additional details or updated data.  This would be interesting to pursue going forward and would add to our examination of disparities.\n",
    "\n"
   ]
  },
  {
   "cell_type": "markdown",
   "id": "0c6d7aa9",
   "metadata": {
    "id": "9208f4f6"
   },
   "source": [
    "## Summary"
   ]
  },
  {
   "cell_type": "markdown",
   "id": "a40db380",
   "metadata": {
    "id": "8fbf6f7e"
   },
   "source": [
    "## References"
   ]
  },
  {
   "cell_type": "markdown",
   "id": "b99abff1",
   "metadata": {
    "id": "e0bf1bdd"
   },
   "source": [
    "<div class=\"csl-entry\">French, G., Hulse, M., Nguyen, D., Sobotka, K., Webster, K., Corman, J., Aboagye-Nyame, B., Dion, M., Johnson, M., Zalinger, B., &#38; Ewing, M. (2021). Impact of Hospital Strain on Excess Deaths During the COVID-19 Pandemic — United States, July 2020–July 2021. <i>MMWR. Morbidity and Mortality Weekly Report</i>, <i>70</i>(46), 1613–1616. https://doi.org/10.15585/MMWR.MM7046A5</div>"
   ]
  },
  {
   "cell_type": "code",
   "execution_count": null,
   "id": "be0657cf",
   "metadata": {
    "id": "1a86c441"
   },
   "outputs": [],
   "source": []
  }
 ],
 "metadata": {
  "colab": {
   "name": "project.ipynb",
   "provenance": []
  },
  "kernelspec": {
   "display_name": "Python 3 (ipykernel)",
   "language": "python",
   "name": "python3"
  },
  "language_info": {
   "codemirror_mode": {
    "name": "ipython",
    "version": 3
   },
   "file_extension": ".py",
   "mimetype": "text/x-python",
   "name": "python",
   "nbconvert_exporter": "python",
   "pygments_lexer": "ipython3",
   "version": "3.9.5"
  }
 },
 "nbformat": 4,
 "nbformat_minor": 5
}
