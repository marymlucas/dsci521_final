{
 "cells": [
  {
   "cell_type": "markdown",
   "id": "5e3a3016",
   "metadata": {
    "id": "0c027386"
   },
   "source": [
    "# DSCI 521: Data Analysis and Interpretation\n",
    "\n",
    "# Term Project"
   ]
  },
  {
   "cell_type": "markdown",
   "id": "a3702e8d",
   "metadata": {
    "id": "0d155175"
   },
   "source": [
    "## Team Members\n",
    "\n",
    "- Team member 1\n",
    "    - Name: Andrew Appleton\n",
    "    - Email: aa4498@drexel.edu    \n",
    "    - Background and skills: 10 years experience in Health Sciences, Limited Python experience\n",
    "- Team member 2\n",
    "    - Name:  Layla Bouzoubaa\n",
    "    - Email: lb3338@drexel.edu\n",
    "    - Background and skills: MS in Public Health with a concentration in Biostatistics. Advanced R user, novel Pythonista, strong familiarity with public health data science pipeline and research.\n",
    "- Team member 3\n",
    "    - Name:  Alicia Brandemarte\n",
    "    - Email: amb847@drexel.edu\n",
    "    - Background and skills: Healthcare Informatics, R, SQL, Business Intelligence.  Limited Python skills, seeking to expand Python Skills.\n",
    "- Team member 4\n",
    "    - Name: Stephan Dupoux\n",
    "    - Email: sgd45@drexel.edu    \n",
    "    - Background and skills: 5 years of building machine learning , 5 years of Python programming such as building ETL pipelines and other web based applications. \n",
    "- Team member 5\n",
    "    - Name: Mary Lucas\n",
    "    - Email: mml367@drexel.edu\n",
    "    - Background and skills: Extensive healthcare clinical experience, some experience in SQL, Python, and R programming and machine learning. \n",
    "- Team member 6\n",
    "    - Name: Shane Nelson\n",
    "    - Email: sn888@drexel.edu\n",
    "    - Background and skills: 2 years experience working at a clinical research organization. Somewhat limited Python experience however continuously seeking to improve skills.\n"
   ]
  },
  {
   "cell_type": "markdown",
   "id": "97de6761",
   "metadata": {
    "id": "c5302f75"
   },
   "source": [
    "# 1. Introduction\n",
    "\n",
    "The COVID-19 pandemic is an ongoing global crisis that has had a major impact on individuals and communities over the past two years.  It has resulted in significant disruptions to our way of life and the services and resources we depend on on a day to day basis.  \n",
    "\n",
    "The pandemic and its effects in terms of loss to life and livelihood have also made it more evident that there are disparities in access to care and resources across the globe based on geography, race, and other factors.\n",
    "  \n",
    "All code can be found on our [Github repository](https://github.com/labouz/covid_vulnerability/)  The data is available for download from the links in the Data Sources section."
   ]
  },
  {
   "cell_type": "markdown",
   "id": "7a12089c",
   "metadata": {
    "id": "60643b74"
   },
   "source": [
    "### Motivating Questions to Address\n",
    "The main questions that we hoped to address in this work were: \n",
    "\n",
    "  * the impact COVID-19 has had on hospital capacity in different regions of the country over time\n",
    "  * the community burden of the COVID-19 pandemic\n",
    "  * health disparities in the COVID-19 impact across different regions of the country\n",
    "\n"
   ]
  },
  {
   "cell_type": "markdown",
   "id": "87424d33",
   "metadata": {
    "id": "4c527ccf"
   },
   "source": [
    "### Design of the Study\n",
    "\n",
    "This study is a descriptive and analytic design of time series data to understand and predict hospitalization burden due to the COVID19 pandemic in different states.  We implemented time series forecasting methods and modelling of hospital burden across the country due to the COVID-19 pandemic. \n",
    "\n",
    "Data used was accessed from open data repositories of the federal government at healthdata.gov and data.gov, and census.gov, as well as supplemental sources such as the Kaiser Family Foundation. Analysis was conducted using standard time series focusing and regression and classification methods.\n",
    "\n",
    "No costs were incurred and no human subjects were involved in the study."
   ]
  },
  {
   "cell_type": "markdown",
   "id": "0c7f816e",
   "metadata": {},
   "source": [
    "### Report Breakdown \n",
    "\n",
    "To make the individual files more manageable we have divided our across two notebooks. This current notebook contains the written report and embedded images of visualizations generated from our analysis and modelling.  \n",
    "\n",
    "The code that is needed to reproduce our work is contained in a separate notebook project_code.ipynb.  "
   ]
  },
  {
   "cell_type": "markdown",
   "id": "fa9af4e6",
   "metadata": {
    "id": "259d762c"
   },
   "source": [
    "# 2. Data\n",
    "\n",
    "\n",
    "The main data we used was obtained from The US Department of Health and Human Services (HHS) as healthdata.gov and is publically available. The datasets are all non-identifiable and contain no protected health information. \n",
    "\n",
    "### Data Sources\n",
    "\n",
    "The main dataset used for this analysis is the hospital capacity timeseries data from the healthdata.gov website. This data is updated daily and can be downloaded from [COVID-19 Reported Patient Impact and Hospital Capacity by State Timeseries](https://healthdata.gov/Hospital/COVID-19-Reported-Patient-Impact-and-Hospital-Capa/g62h-syeh)\n",
    "\n",
    "The second dataset is a community vulnerability ranking dataset, by county, provided at data.gov. This data is fixed in time and has not been updated since at least November 2021 according to the metadata on the data page. It can be downloaded from [COVID-19 Community Vulnerability Crosswalk - Rank Ordered by Score](https://catalog.data.gov/dataset/covid-19-community-vulnerability-crosswalk-rank-ordered-by-score)\n",
    "\n",
    "Supplementary data on population metrics, socioeconomic status, and hospital counts in different states was obtained from other sources and will be referenced in the relevant sections of this report.\n",
    "\n",
    "\n",
    "### Data Structure\n",
    "The hospital impact and capacity timeseries data and the community vulnerability raking data is provided in various formats including CSV, TSV, GEOJSON, XML, and more.  It is updated on a daily basis and can be downloaded via the Socrata API or by direct export from the links provided.  As of the last download of the final dataset for this project the file contained 39,701 rows and 117 columns with each row representing a daily state aggregated report. Because of API limitations we opted to download a CSV file of the data for our work.\n",
    "\n",
    "The other datasets were all provided either as Excel/CSV files or were in table format on a webpage or a PDF and needed to be scraped and saved in CSV format.  \n",
    "\n",
    "All datasets are all included in the data folder that accompanies this report."
   ]
  },
  {
   "cell_type": "markdown",
   "id": "1c377eeb",
   "metadata": {
    "id": "fIK8BCtxaW9A"
   },
   "source": [
    "# 3. Exploratory Data Analysis\n"
   ]
  },
  {
   "cell_type": "code",
   "execution_count": 10,
   "id": "f43387ae",
   "metadata": {},
   "outputs": [],
   "source": [
    "# code to allow for visualizations\n",
    "import warnings\n",
    "import IPython\n",
    "from IPython.display import Image\n",
    "warnings.filterwarnings('ignore')"
   ]
  },
  {
   "cell_type": "markdown",
   "id": "2035a8ff",
   "metadata": {
    "id": "Ip88o6YNNPp3"
   },
   "source": [
    ".... **ALICIA**\n",
    "\n",
    "...\n"
   ]
  },
  {
   "cell_type": "markdown",
   "id": "6a20d725",
   "metadata": {},
   "source": [
    "..."
   ]
  },
  {
   "cell_type": "code",
   "execution_count": 5,
   "id": "afa56695",
   "metadata": {
    "colab": {
     "base_uri": "https://localhost:8080/",
     "height": 645
    },
    "executionInfo": {
     "elapsed": 167,
     "status": "ok",
     "timestamp": 1647126888740,
     "user": {
      "displayName": "Mary Lucas",
      "photoUrl": "https://lh3.googleusercontent.com/a-/AOh14Ggz3vWlbw_VmfR9jm5fPx_deBaL4fvazB0DdNgURQ=s64",
      "userId": "01579912861992077688"
     },
     "user_tz": 300
    },
    "id": "_KawphFJaY6X",
    "outputId": "f1a8df17-8a48-4735-9d4f-5c9e313bc2c1"
   },
   "outputs": [
    {
     "data": {
      "text/html": [
       "<iframe src=https://marymlucas.github.io/adult-icu_utilization/ width=100% height=600></iframe>"
      ],
      "text/plain": [
       "<IPython.core.display.HTML object>"
      ]
     },
     "execution_count": 5,
     "metadata": {},
     "output_type": "execute_result"
    }
   ],
   "source": [
    "url = 'https://marymlucas.github.io/adult-icu_utilization/'\n",
    "iframe = '<iframe src=' + url + ' width=100% height=600></iframe>'\n",
    "IPython.display.HTML(iframe)"
   ]
  },
  {
   "cell_type": "markdown",
   "id": "5347765d",
   "metadata": {},
   "source": [
    "# 3. Methods"
   ]
  },
  {
   "cell_type": "markdown",
   "id": "3566f8ec",
   "metadata": {
    "id": "4ef30748"
   },
   "source": [
    "## 3.1 Data Preprocessing\n",
    "We undertook various steps to prepare our data. These are outlined below.\n",
    "\n",
    "### Data Cleaning\n",
    "This was an iterative process that involved exploring the data, noting anomalies and removing them, and then exploring the data again, and therefore these steps were not completed in a sequential manner.\n",
    "\n",
    "The main cleaning measures were:\n",
    "\n",
    "- date confinements:  we noticed that the data was very sparse before 3/1/2020 and therefore decided to set that as the start date of our analysis. We settled on an even 24 months for analysis and therefore constrained our dataset to this time period.\n",
    "\n",
    "- anomalous data points:  we removed one data point for the state of Iowa where the adult ICU bed utilization (our main metric of interest) was reported as greater than 50.  Because utilization is a proportion measure, we expected to see utilization values between 0 and 1.  The majority of observations fell in this range as evidenced by the scatter plot in fig x. There were a few that were above 1 and even fewer above between 2 and 3.  We considered that given the nature of the pandemic and the extent to which hospitals were sometimes overrun, values of utilization above 1 would indicate that some ICUs were running over capacity and overflowing into other areas of the hospital, hence utilization > 1. Because we only saw a value higher than 3 only once in this data (Iows on 08/15/2020), we decided it was likely a clerical error and opted to remove this row from our data. \n",
    "\n",
    "### Feature Selection\n",
    "After an initial data exploration phase, we selected 35 variables out of the 117 to retain for our analysis. This selection was made based on examination of variable collinearity and domain knowledge. We noticed that many of the highly correlated variables were also derived from each other. For example there were features defined as \"numerator\" and \"denominator\" which were not relevant to our analysis. Our goal was to analyze impact of hospital capacity and state-wide burden, therefore many features examining covid diagnosis (suspected and confirmed) were dropped because they were not critical to our analysis. In addition, many features were focused on pediatric measures that were not applicable to our analysis, considering our ultimate target variable for icu bed utilization. \n",
    "\n",
    "### Defining and Calculating Under-Reporting\n",
    "To make our analysis meaningful, we decided to remove states that had high levels of underreporting.  For each metric in each row (day of data reported in the state), there is a corresponding \"coverage\" variable (denoted as *metric_coverage*). This coverage feature reports how many hospitals in the state submitted information about that metric on the day. For example, in the case of our main feaure of interest (adult_icu_bed_utilization), the *adult_icu_bed_utilization_coverage* feature gives an indication of how many hospitals in the state reported their adult icu bed utilization that day. \n",
    "\n",
    "By comparing the coverage with the number of hospitals in each state we were able to derive a simple measure of the level of reporting for each state.\n",
    "\n",
    "The most current list of hospital numbers was obtained from the Kaiser Family Foundation website (https://www.kff.org/other/state-indicator/total-hospitals) which reports data from the American Hospital Association (1999 - 2019) Annual Survey. \n",
    "\n",
    "It's important to note the disclaimer that \"Data are for community hospitals, which represent 85% of all hospitals\" where community hospitals are defined as \"all nonfederal, short-term general, and specialty hospitals whose facilities and services are available to the public.\"  Because of this, we expected that for states with high reporting we may have instances of greater than 100% reporting, which we decided was acceptable for our analysis.\n",
    "\n",
    "In selecting a threshold, we considered the guidelines by the HHS for hospitals on how to report their numbers - https://www.hhs.gov/sites/default/files/covid-19-faqs-hospitals-hospital-laboratory-acute-care-facility-data-reporting.pdf. While this is a recent update, we noted that the changes from previous requirements did not affect the requirement to report or the frequency of reporting, only what fields are reported (https://healthdata.gov/stories/s/COVID-19-Reporting-and-FAQS/kjst-g9cm/). Based on this and on exploration of the data, we came up with a definition of under-reporting as \"greater than 25% of the hospitals not reporting acute_icu_bed_utilization.\"  After running our code, we the states of Rhode Island and New York, as they had the largest number of days of underreporting over the two year perion in our analysis.  In addition, after plotting a boxplot of total days reported per state, we noted that the US territories of Virgin Islands and American Samoa were outliers and had very low reporting days, so we dropped the territories from our analysis. \n",
    "\n",
    "### Defining and Calculating Burden\n",
    "We then calculated a burden metric for each state on each day.  To calculate burden, we used the criteria set by The US Department of Health and Human Services.  According to French et.al., (2021), “HHS has studied the relationship between hospital bed use and hospital strain and has identified occupancy >80% as an indicator of a strained condition. This analysis uses a continuous measure of ICU bed occupancy as a proxy for hospital strain, such that greater amounts of ICU bed use indicate larger amounts of hospital strain.” \n",
    "\n",
    "We determined from our survey of the relevant literature that 80% threshold is a good, validated metric for hospital strain that we could use as an indicator for our analysis.\n",
    "\n",
    "The burden metric is binary 1/0 value that is 1 if the adult icu bed utilization is greater than 0.8, and less otherwise. "
   ]
  },
  {
   "cell_type": "markdown",
   "id": "d9c5000c",
   "metadata": {},
   "source": [
    "## 3.2 Analysis and Modelling\n",
    "\n",
    "\n",
    "### Time Series Analysis - Simple Moving Average\n",
    "There are several factors that should be considered when performing a time series analysis. \n",
    "\n",
    "- Stationarity: a time series model is said to be stationary if its statistical properties do not change over time. In other words, it has constant mean and variance, and covariance is independent of time. \n",
    "- Auto-correlation: this is the similarity between observations as a function of time given a lag of time between them. \n",
    "- Seasonality: a period fluctuation of observations over time. \n",
    "\n",
    "Ideally, it is desirable to have a stationary time series for model. We can test for stationarity by performing a Dickey-Fuller test where the null hypothesis is that the series is not stationary (p > 0), and if p = 0 we then reject null hypothesis.\n",
    "\n",
    "Our first model, the moving average, was the most naive. This model is simple in that it states that the next observation is the mean of all past observations in a given window. This model is typically a good starting point as we can identify interesting trends. In our analysis we hypothesized that our data is not stationary given that we observed the significant jump in ICU bed utilization around July 2020 (see animated choropleth).\n",
    "\n",
    "### Regression and Classification for Predicting Burden\n",
    ".... **ALICIA**\n",
    "\n",
    "### Time Series Forecasting for Predicting Trends in Utilization\n",
    "The goal here was to use standard forecasting methods to predict trends in ICU bed utilization during the pandemic. We chose to focus on Pennsylvania as this is our state of residence and where Drexel University is located. \n",
    "\n",
    "The data for PA was extracted and split into train and test subsets based on date, with the first 18 months (March 1, 2020 -  Sep 1, 2021) used as the training set and the last 6 months (Sep 1, 2021 - March 1, 2022) as the test set.  We then ran 3 different forecasting models on the data.  For simplicity, no adjustments, e.g. for stationarity, were made on either the training or the testing data.\n",
    "\n",
    "The three models tested are described below:\n",
    "- Autoregressive Moving Average (ARMA) \n",
    "    - doesn’t capture seasonal trends. \n",
    "    - assumes that the time series data is stationary, meaning that its statistical properties wouldn’t change over time. \n",
    "- Autoregressive Integrated Moving Average (ARIMA)\n",
    "    - doesn’t assume stationarity \n",
    "    - assumes the data exhibits little to no seasonality\n",
    "- Seasonal ARIMA (SARIMA)\n",
    "    - is a variant of ARIMA \n",
    "    - can work with non-stationary data \n",
    "    - can capture some seasonality\n",
    "\n",
    "The performance of each model was evaluated by calculating the root mean square error, and we also visualized the predicted trends compared to the actual trends.\n",
    "\n",
    "\n",
    "### Disparity Analysis\n",
    "\n",
    "For the disparity analysis, we were limited in what measures of disparity we could meaningfully use given the varying granularity of our different datasets. For example, most income and race data is reported at a county level (for example by the Census bureau). But our utilization timeseries data is on a state level. Because the counties in each state have different socioeconomic levels, it's difficult to aggregate these measures and analyse disparity at a state level in a meaningful and actionable way. \n",
    "\n",
    "We mapped each several indicators of community wellness in choropleths as a way to assess disparity and to compare the differences between states with the animated choropleth of ICU burden.  The mapped indicators are:\n",
    "\n",
    "- Social Deprivation Index (SDI):\n",
    "    - bla bla bla\n",
    "- COVID vulnerability Level: measure \n",
    "    - (based on data that was last updated 11/2021)\n",
    "multidimensional deprivation index.  We also mapped the population density of each state as an additional measure.\n",
    "\n"
   ]
  },
  {
   "cell_type": "markdown",
   "id": "1ea1fbbd",
   "metadata": {
    "id": "f211c026"
   },
   "source": [
    "## 4. Results\n"
   ]
  },
  {
   "cell_type": "markdown",
   "id": "91df7faa",
   "metadata": {},
   "source": [
    "### Time Series - Simple Moving Average\n",
    "\n",
    "We tested the hypothesis that our time series was stationary by applying the Dicky-Fuller test and got a p-value = 0. Additionally, we observed very high autocorrelation suggesting no clear seasonality.\n",
    "\n",
    "<table>\n",
    "    <tr>\n",
    "        <td> <img src=\"images/DF.png\" alt=\"Drawing\" style=\"width: 500px;\"/> \n",
    "            <br>\n",
    "        </td>\n",
    "        <td> <img src=\"images/DF-auto.png\" alt=\"Drawing\" style=\"width: 500px;\"/> \n",
    "            <br>\n",
    "        </td>\n",
    "    </tr>\n",
    "</table>\n",
    "\n",
    "Although we fail to reject the null hypothesis, when plotting the moving average line, with a 7 day window, against the data with confidence intervals, we can observe a downward trend at the end. If we were to stop here we could say that the utilization rate is likely to go down in the following days. \n",
    "\n",
    "<img src=\"images/simple_moving_average_7_day.png\" alt=\"Drawing\"/>\n",
    "\n",
    "However, given this approach is not a very comprehensive method of anticipating burden, we decided to move on from the moving average model to try other nodels that could tell us more. If we were to stay on the path of the moving average model, we could have utilized other smoothing methods, like exponential or double exponential, to try to observe more interesting trends followed by adjusting the data to account for possible seasonality and stationarity by taking the first difference.\n"
   ]
  },
  {
   "cell_type": "markdown",
   "id": "43cddd94",
   "metadata": {},
   "source": [
    "### Regression and Classification Modeling\n",
    "\n",
    "... **ALICIA**"
   ]
  },
  {
   "cell_type": "markdown",
   "id": "3dcfbf30",
   "metadata": {
    "id": "s12tbUtGVBny"
   },
   "source": [
    "### Time Series Forecasting - ARMA, ARIMA, SARIMA"
   ]
  },
  {
   "cell_type": "markdown",
   "id": "a80005e4",
   "metadata": {},
   "source": [
    "*bla bla bla bla bla text here*\n",
    "\n",
    "<table>\n",
    "    <tr>\n",
    "        <td> <img src=\"images/ARIMA_PA.png\" alt=\"Drawing\" style=\"width: 500px;\"/> \n",
    "            <br>\n",
    "            <center>Comparing ARMA and ARIMA predictions with actual trend</center>\n",
    "        </td>\n",
    "        <td> <img src=\"images/SARIMA_PA.png\" alt=\"Drawing\" style=\"width: 500px;\"/> \n",
    "            <br>\n",
    "            <center>SARIMA prediction</center>\n",
    "        </td>\n",
    "    </tr>\n",
    "</table>\n",
    "\n"
   ]
  },
  {
   "cell_type": "markdown",
   "id": "d28b9e44",
   "metadata": {},
   "source": [
    "### Disparity Analysis\n",
    "\n",
    "We were able to include the social deprivation index for each state in our data and this variable was used in the regression and classification modelling that has been described and proved to have a predictive effect on the hospital burden.  \n",
    "\n",
    "*bla bla bla bla bla more text here*\n",
    "\n",
    "\n",
    "\n",
    "<table>\n",
    "    <tr>\n",
    "        <td> <img src=\"images/mdi.png\" alt=\"Drawing\" style=\"width: 500px;\"/> \n",
    "            <br>\n",
    "            <center>Multidimensional Deprivation Index (MDI)</center>\n",
    "        </td>\n",
    "        <td> <img src=\"images/covid_vulnerability.png\" alt=\"Drawing\" style=\"width: 500px;\"/> \n",
    "            <br>\n",
    "            <center>COVID Vulnerability Level (Hardest Hit Areas HHA)</center>\n",
    "        </td>\n",
    "    </tr>\n",
    "</table>\n",
    "\n",
    "\n",
    "*bla bla bla bla bla more text here*\n",
    "\n",
    "\n",
    "<table>\n",
    "    <tr>\n",
    "        <td> <img src=\"images/sdi.png\" alt=\"Drawing\" style=\"width: 500px;\"/> \n",
    "            <br>\n",
    "            <center>Social Deprivation Index (SDI)</center>\n",
    "        </td>\n",
    "        <td> <img src=\"images/popn_density.png\" alt=\"Drawing\" style=\"width: 500px;\"/> \n",
    "            <br>\n",
    "            <center>Population Density</center>   \n",
    "        </td>\n",
    "    </tr>\n",
    "</table>\n",
    "\n",
    "\n",
    "*bla bla bla bla bla more text here*\n"
   ]
  },
  {
   "cell_type": "markdown",
   "id": "6465df2b",
   "metadata": {
    "id": "f5967a58"
   },
   "source": [
    "## 5. Strengths and Limitations\n",
    "\n",
    "### Strengths:\n",
    "\n",
    "The strengths of this project lie in the amount of freely available data that we were able to harness and include in our analysis and modeling.  This shows that this kind of study can be extended and expanded on beyond our current work, and as the pandemic continues it can be easily updated and enhanced.  \n",
    "\n",
    "Additionally, this analysis is timely and of great relevance to various stakeholders both in looking back and looking forwards. Understanding how different communities were impacted and burdened by the COVID-19 pandemic and some of the underlying factors that caused the disparate impact, such as socioeconomic factors (as measured by the social deprivation index) and population density can help policy makers and communities to prepare more robustly for future health emergencies or other disasters.\n",
    "\n",
    "\n",
    "### Limitations:\n",
    "\n",
    "We do have some limitations in our analysis and modelling that we would like to acknowledge. \n",
    "\n",
    "The primary limitation we faced, which has been alluded to in the disparity analysis section, is that we are using datasets that are provided at different granularity levels.  For example, the utilization data in our hospital time series data was at the state level while most of the disparity and social indicator data we could obtain was provided at the county level (apart from the SDI).  In future, it would be interesting to analyse timeseries information at the County level and then use Census data to, for example,  map socioeconomic indicatirs for the different counties. This would allow a more useful calculation and analysis of health disparities between groups.\n",
    "\n",
    "A second limitation is that we had to use data points from different data collection timeframes. While our ICU utilization data is very real time, the disparity and socioeconomic data is not, it's frozen at the collection time (2017 for the MDI data and 2018 for the SDI data). Additionally, the population density data is based on the 2020 census.  We are therefore making the assumption that these metrics have not varied much over the past few years.  We did find that even though the SDI data we used was from 2017 it was still very predictive of hospital burden."
   ]
  },
  {
   "cell_type": "markdown",
   "id": "0c6d7aa9",
   "metadata": {
    "id": "9208f4f6"
   },
   "source": [
    "## 6. Conclusion\n",
    "\n",
    "Our goal throughout this project was to come up with a model to understand the hospital burden throughout the U.S. during the COVID-19 pandemic and how socioeconomic disparities, and other metrics like population density may have impacted and continu to contribute to this burden.  We implemented multiple regression and time series models and were able to validate that social deprivation index and population density seemed to have a significant impact on how much hospital burden was experience din different states across the burden.\n",
    "\n",
    "We concluded that the best performing model for predicting hospital burden was the autoregressive moving average (ARMA) model as it was able to predict correctly how ICU utilization would trend for the next six months. It also had the lowest root mean square error.  We hypothesize that we could use the ARMA model on a live dashboard that would update based on daily utilization data, keeping policy majers and public health administrators and other stakeholders updated and able to prepare for burden in their communities and to implement appropriate disaster management measures and clinical plans if necessary.\n"
   ]
  },
  {
   "cell_type": "markdown",
   "id": "a40db380",
   "metadata": {
    "id": "8fbf6f7e"
   },
   "source": [
    "## References"
   ]
  },
  {
   "cell_type": "markdown",
   "id": "b99abff1",
   "metadata": {
    "id": "e0bf1bdd"
   },
   "source": [
    "<div class=\"csl-entry\">French, G., Hulse, M., Nguyen, D., Sobotka, K., Webster, K., Corman, J., Aboagye-Nyame, B., Dion, M., Johnson, M., Zalinger, B., &#38; Ewing, M. (2021). Impact of Hospital Strain on Excess Deaths During the COVID-19 Pandemic — United States, July 2020–July 2021. <i>MMWR. Morbidity and Mortality Weekly Report</i>, <i>70</i>(46), 1613–1616. https://doi.org/10.15585/MMWR.MM7046A5</div>"
   ]
  },
  {
   "cell_type": "code",
   "execution_count": null,
   "id": "be0657cf",
   "metadata": {
    "id": "1a86c441"
   },
   "outputs": [],
   "source": []
  }
 ],
 "metadata": {
  "colab": {
   "name": "project.ipynb",
   "provenance": []
  },
  "kernelspec": {
   "display_name": "Python 3 (ipykernel)",
   "language": "python",
   "name": "python3"
  },
  "language_info": {
   "codemirror_mode": {
    "name": "ipython",
    "version": 3
   },
   "file_extension": ".py",
   "mimetype": "text/x-python",
   "name": "python",
   "nbconvert_exporter": "python",
   "pygments_lexer": "ipython3",
   "version": "3.9.5"
  }
 },
 "nbformat": 4,
 "nbformat_minor": 5
}
